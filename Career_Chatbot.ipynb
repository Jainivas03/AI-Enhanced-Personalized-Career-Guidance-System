{
 "cells": [
  {
   "cell_type": "code",
   "execution_count": 1,
   "id": "b64118cf-8232-43ca-9976-504c3717d743",
   "metadata": {},
   "outputs": [],
   "source": [
    "import pandas as pd\n",
    "from openai import OpenAI\n",
    "import gradio as gr\n",
    "\n",
    "from langchain_chroma import Chroma\n",
    "from langchain_huggingface import HuggingFaceEmbeddings\n",
    "from langchain_core.documents import Document\n",
    "import os\n",
    "import numpy as np\n",
    "from langchain.memory import ConversationBufferMemory\n",
    "from langchain.chains import ConversationalRetrievalChain\n",
    "from langchain_ollama import ChatOllama\n",
    "from langchain.prompts import PromptTemplate\n",
    "import warnings\n",
    "from langchain_core._api import LangChainDeprecationWarning\n",
    "from langchain.chains.qa_with_sources import load_qa_with_sources_chain\n",
    "from langchain.chains import LLMChain"
   ]
  },
  {
   "cell_type": "code",
   "execution_count": 2,
   "id": "ddde6251-2d97-48b3-a857-c2b238bb2c93",
   "metadata": {},
   "outputs": [
    {
     "data": {
      "text/html": [
       "<div>\n",
       "<style scoped>\n",
       "    .dataframe tbody tr th:only-of-type {\n",
       "        vertical-align: middle;\n",
       "    }\n",
       "\n",
       "    .dataframe tbody tr th {\n",
       "        vertical-align: top;\n",
       "    }\n",
       "\n",
       "    .dataframe thead th {\n",
       "        text-align: right;\n",
       "    }\n",
       "</style>\n",
       "<table border=\"1\" class=\"dataframe\">\n",
       "  <thead>\n",
       "    <tr style=\"text-align: right;\">\n",
       "      <th></th>\n",
       "      <th>Specialization</th>\n",
       "      <th>Skills Required</th>\n",
       "    </tr>\n",
       "  </thead>\n",
       "  <tbody>\n",
       "    <tr>\n",
       "      <th>0</th>\n",
       "      <td>SEO Consultant</td>\n",
       "      <td>Hadoop, Agile, GCP, Spring Boot, Scrum, Redis,...</td>\n",
       "    </tr>\n",
       "    <tr>\n",
       "      <th>1</th>\n",
       "      <td>SEO Architect</td>\n",
       "      <td>PostgreSQL, Vue.js, Penetration Testing, Tenso...</td>\n",
       "    </tr>\n",
       "    <tr>\n",
       "      <th>2</th>\n",
       "      <td>E-commerce Consultant</td>\n",
       "      <td>MySQL, Git, Node.js, Big Data, Smart Contracts...</td>\n",
       "    </tr>\n",
       "    <tr>\n",
       "      <th>3</th>\n",
       "      <td>Bioinformatics Specialist</td>\n",
       "      <td>Linux, TensorFlow, Scikit-learn, MySQL, Data V...</td>\n",
       "    </tr>\n",
       "    <tr>\n",
       "      <th>4</th>\n",
       "      <td>Cloud Specialist</td>\n",
       "      <td>Firebase, Data Visualization, Deep Learning, A...</td>\n",
       "    </tr>\n",
       "  </tbody>\n",
       "</table>\n",
       "</div>"
      ],
      "text/plain": [
       "              Specialization  \\\n",
       "0             SEO Consultant   \n",
       "1              SEO Architect   \n",
       "2      E-commerce Consultant   \n",
       "3  Bioinformatics Specialist   \n",
       "4           Cloud Specialist   \n",
       "\n",
       "                                     Skills Required  \n",
       "0  Hadoop, Agile, GCP, Spring Boot, Scrum, Redis,...  \n",
       "1  PostgreSQL, Vue.js, Penetration Testing, Tenso...  \n",
       "2  MySQL, Git, Node.js, Big Data, Smart Contracts...  \n",
       "3  Linux, TensorFlow, Scikit-learn, MySQL, Data V...  \n",
       "4  Firebase, Data Visualization, Deep Learning, A...  "
      ]
     },
     "execution_count": 2,
     "metadata": {},
     "output_type": "execute_result"
    }
   ],
   "source": [
    "df = pd.read_csv(\"data\\\\large_skills_dataset.csv\")\n",
    "df.head()"
   ]
  },
  {
   "cell_type": "code",
   "execution_count": 3,
   "id": "f29f7af4-2b95-4e15-b92b-b31ab1e46a0b",
   "metadata": {},
   "outputs": [],
   "source": [
    "model = \"llama3.2\"\n",
    "openai = OpenAI(base_url='http://localhost:11434/v1', api_key='ollama')"
   ]
  },
  {
   "cell_type": "code",
   "execution_count": 4,
   "id": "353f90d8-f789-4587-8069-33dfd6a01855",
   "metadata": {},
   "outputs": [],
   "source": [
    "# def get_system_prompt(skills_required):\n",
    "#     system_prompt = \"You are a career guidance assistant.\\n\"\n",
    "#     system_prompt += \"When the user asks about a career path, first ask them politely about their current skills.\\n\"\n",
    "#     system_prompt += \"After they provide their skills, recommend the missing skills based on their desired career.\\n\"\n",
    "#     system_prompt += \"Explain how they can learn these missing skills in a simple and friendly way.\\n\"\n",
    "#     if skills_required:\n",
    "#         system_prompt += f\"The important skills for this career are: {skills_required}.\\n\"\n",
    "#         system_prompt += \"But do not assume they have any skills yet. Ask them first!\\n\"\n",
    "#         system_prompt += \"Only after they tell their skills, subtract their known skills and suggest only the missing ones.\\n\"\n",
    "#         system_prompt += \"If they say they have no skills, suggest all skills.\\n\"\n",
    "#     return system_prompt"
   ]
  },
  {
   "cell_type": "code",
   "execution_count": 5,
   "id": "8d0a1962-5f58-4f53-b4cc-d0ef3676b7fc",
   "metadata": {},
   "outputs": [],
   "source": [
    "# def chat(msg, history):\n",
    "#     msgs = [{\"role\": \"system\", \"content\": get_system_prompt(\"\")}] + history + [{\"role\": \"user\", \"content\": msg}]\n",
    "#     stream = openai.chat.completions.create(\n",
    "#         model=model,\n",
    "#         messages=msgs,\n",
    "#         stream=True\n",
    "#     )\n",
    "\n",
    "#     res=\"\"\n",
    "#     for chunk in stream:\n",
    "#         res += chunk.choices[0].delta.content or \"\"\n",
    "#         yield res"
   ]
  },
  {
   "cell_type": "code",
   "execution_count": 6,
   "id": "2327e361-46a0-4c5f-a49a-01a08805ae7d",
   "metadata": {},
   "outputs": [],
   "source": [
    "# gr.ChatInterface(fn=chat, type=\"messages\").launch(inbrowser=True)"
   ]
  },
  {
   "cell_type": "code",
   "execution_count": 7,
   "id": "03984d24-4a86-4930-ae62-c33dc15e2e70",
   "metadata": {},
   "outputs": [],
   "source": [
    "# len(df)"
   ]
  },
  {
   "cell_type": "code",
   "execution_count": 8,
   "id": "a6889acc-5f9d-4749-8165-39ba38fc2c83",
   "metadata": {},
   "outputs": [],
   "source": [
    "# df_temp = df[:10]\n",
    "# df_temp"
   ]
  },
  {
   "cell_type": "code",
   "execution_count": 9,
   "id": "18fc826f-7a54-43f6-ab5e-2f3bce0d39b3",
   "metadata": {},
   "outputs": [],
   "source": [
    "# def get_skills(str):\n",
    "#     for i in range(len(df_temp)):\n",
    "#         specs = df_temp.loc[i, \"Specialization\"]\n",
    "#         if(specs in str):\n",
    "#             return df_temp.loc[df_temp['Specialization'] == specs, 'Skills Required'].values[0]"
   ]
  },
  {
   "cell_type": "code",
   "execution_count": 10,
   "id": "78c14777-bc05-49d4-98b8-0110383fc4c0",
   "metadata": {},
   "outputs": [],
   "source": [
    "# def chat1(msg, history):\n",
    "#     msgs = [{\"role\": \"system\", \"content\": get_system_prompt(get_skills(msg))}] + history + [{\"role\": \"user\", \"content\": msg}]\n",
    "#     stream = openai.chat.completions.create(\n",
    "#         model=model,\n",
    "#         messages=msgs,\n",
    "#         stream=True\n",
    "#     )\n",
    "\n",
    "#     res=\"\"\n",
    "#     for chunk in stream:\n",
    "#         res += chunk.choices[0].delta.content or \"\"\n",
    "#         yield res"
   ]
  },
  {
   "cell_type": "code",
   "execution_count": 11,
   "id": "7d5ad901-bbf0-4e3b-b2b1-13e039263dfe",
   "metadata": {},
   "outputs": [],
   "source": [
    "# gr.ChatInterface(fn=chat1, type=\"messages\").launch(inbrowser=True)"
   ]
  },
  {
   "cell_type": "code",
   "execution_count": 12,
   "id": "4e884d9b-9cb0-4e2e-8acc-67bf839927f8",
   "metadata": {},
   "outputs": [],
   "source": [
    "specs = [f\"Specialization: {row['Specialization']}\\nSkills Required: {row['Skills Required']}\" for _, row in df.iterrows()]"
   ]
  },
  {
   "cell_type": "code",
   "execution_count": 13,
   "id": "fbf142f9-9e03-47c9-9cfa-55c2442312aa",
   "metadata": {},
   "outputs": [],
   "source": [
    "# print(specs[5])"
   ]
  },
  {
   "cell_type": "code",
   "execution_count": 14,
   "id": "f16e25f0-d9cd-4fa3-a57d-d7f04810e239",
   "metadata": {},
   "outputs": [],
   "source": [
    "docs = []\n",
    "for spec in specs:\n",
    "    parts = spec.split(\"\\n\")\n",
    "    specialization = parts[0].replace(\"Specialization: \", \"\").strip()\n",
    "    skills = parts[1].replace(\"Skills Required: \", \"\").strip()\n",
    "\n",
    "    doc = Document(\n",
    "        page_content=spec,  # Full text\n",
    "        metadata={\n",
    "            \"specialization\": specialization,\n",
    "            \"skills\": skills\n",
    "        }\n",
    "    )\n",
    "    docs.append(doc)\n",
    "\n",
    "texts = [doc.page_content for doc in docs]"
   ]
  },
  {
   "cell_type": "code",
   "execution_count": 18,
   "id": "0bc5ec9a-0c3e-46f0-bc19-737a3c7cb78d",
   "metadata": {},
   "outputs": [],
   "source": [
    "# docs[0], texts[0], specs[0]"
   ]
  },
  {
   "cell_type": "code",
   "execution_count": 16,
   "id": "22589e77-534e-494e-823a-4b5120844be4",
   "metadata": {},
   "outputs": [],
   "source": [
    "# db_name=\"vector_db\"\n",
    "\n",
    "# embeddings = HuggingFaceEmbeddings(model_name=\"sentence-transformers/all-MiniLM-L6-v2\")\n",
    "\n",
    "# vectors = embeddings.embed_documents(texts)\n",
    "\n",
    "# if os.path.exists(db_name):\n",
    "#     Chroma(persist_directory=db_name, embedding_function=embeddings).delete_collection()\n",
    "\n",
    "# vectorstore = Chroma.from_documents(\n",
    "#     documents=docs,\n",
    "#     embedding=embeddings,\n",
    "#     persist_directory=db_name,\n",
    "# )\n",
    "\n",
    "# print(f\"Vectorstore created with {vectorstore._collection.count()} documents\")"
   ]
  },
  {
   "cell_type": "code",
   "execution_count": 17,
   "id": "3c1c816d-f367-4554-81d7-4d652be8fd47",
   "metadata": {},
   "outputs": [],
   "source": [
    "# print(f\"Vector for {vectorstore._collection.get(limit=1)[\"documents\"]} is\\n\\n{vectorstore._collection.get(limit=1)[\"embeddings\"]}\")"
   ]
  },
  {
   "cell_type": "code",
   "execution_count": 18,
   "id": "20076cf4-30bf-4fe6-8db8-c66f5a2d0555",
   "metadata": {},
   "outputs": [],
   "source": [
    "\n",
    "# collection = vectorstore._collection\n",
    "# result = collection.get(include=['embeddings', 'documents', 'metadatas'])\n",
    "# vectors = np.array(result['embeddings'])\n",
    "# print(vectors[:5])"
   ]
  },
  {
   "cell_type": "code",
   "execution_count": 19,
   "id": "1f6b43e5-b15e-4623-8cda-f0c69de0b681",
   "metadata": {},
   "outputs": [
    {
     "data": {
      "text/plain": [
       "'llama3.2'"
      ]
     },
     "execution_count": 19,
     "metadata": {},
     "output_type": "execute_result"
    }
   ],
   "source": [
    "model"
   ]
  },
  {
   "cell_type": "code",
   "execution_count": 20,
   "id": "25cae33f-cd3f-4d57-8d08-f90ea29a3d12",
   "metadata": {},
   "outputs": [],
   "source": [
    "# warnings.filterwarnings(\"ignore\", category=LangChainDeprecationWarning)\n",
    "# llm = ChatOllama(model=model, temperature=0.7)\n",
    "\n",
    "# memory = ConversationBufferMemory(memory_key=\"chat_history\", return_messages=True)\n",
    "\n",
    "# retriever = vectorstore.as_retriever(search_kwargs={\"k\": 5})\n",
    "\n",
    "# qa_prompt = PromptTemplate(\n",
    "#     input_variables=[\"context\", \"question\"],\n",
    "#     template=\"\"\"\n",
    "# You are an assistant.\n",
    "\n",
    "# Use ONLY the CONTEXT below to answer the QUESTION.\n",
    "# - Do use any outside knowledge if there is no CONTEXT.\n",
    "\n",
    "# CONTEXT:\n",
    "# {context}\n",
    "\n",
    "# QUESTION:\n",
    "# {question}\n",
    "\n",
    "# STRICT ANSWER:\n",
    "# \"\"\"\n",
    "# )\n",
    "\n",
    "# conversation_chain = ConversationalRetrievalChain.from_llm(\n",
    "#     llm=llm,\n",
    "#     retriever=retriever,\n",
    "#     memory=memory,\n",
    "#     combine_docs_chain_kwargs={\"prompt\": qa_prompt},\n",
    "# )"
   ]
  },
  {
   "cell_type": "code",
   "execution_count": 21,
   "id": "03689f6f-1897-4ad5-8fbe-a002035703fb",
   "metadata": {},
   "outputs": [],
   "source": [
    "# def chat2(message, history):\n",
    "#     docs = retriever.get_relevant_documents(message)\n",
    "#     context = \"\\n\\n\".join(doc.page_content for doc in docs)\n",
    "\n",
    "#     prompt = f\"\"\"\n",
    "# Use ONLY the following CONTEXT to answer the QUESTION.\n",
    "\n",
    "# CONTEXT:\n",
    "# {context}\n",
    "\n",
    "# QUESTION:\n",
    "# {message}\n",
    "\n",
    "# If you don't find the CONTEXT, then you can respond with your knowledge\n",
    "\n",
    "# STRICT ANSWER:\n",
    "# \"\"\"\n",
    "#     result = llm.invoke(prompt)\n",
    "#     return result.content"
   ]
  },
  {
   "cell_type": "code",
   "execution_count": 22,
   "id": "56f9f5c4-eadb-43b8-95fa-062d2bb3f99a",
   "metadata": {},
   "outputs": [],
   "source": [
    "# if memory.chat_memory.messages:\n",
    "#     memory.chat_memory.clear()\n",
    "    \n",
    "# view = gr.ChatInterface(chat2, type=\"messages\").launch(inbrowser=True)"
   ]
  },
  {
   "cell_type": "code",
   "execution_count": 20,
   "id": "2d917f6b-2162-464d-9969-1e80b61ea169",
   "metadata": {},
   "outputs": [
    {
     "data": {
      "text/html": [
       "<div>\n",
       "<style scoped>\n",
       "    .dataframe tbody tr th:only-of-type {\n",
       "        vertical-align: middle;\n",
       "    }\n",
       "\n",
       "    .dataframe tbody tr th {\n",
       "        vertical-align: top;\n",
       "    }\n",
       "\n",
       "    .dataframe thead th {\n",
       "        text-align: right;\n",
       "    }\n",
       "</style>\n",
       "<table border=\"1\" class=\"dataframe\">\n",
       "  <thead>\n",
       "    <tr style=\"text-align: right;\">\n",
       "      <th></th>\n",
       "      <th>Job Title</th>\n",
       "      <th>Job Description</th>\n",
       "      <th>Skills</th>\n",
       "      <th>Certifications</th>\n",
       "    </tr>\n",
       "  </thead>\n",
       "  <tbody>\n",
       "    <tr>\n",
       "      <th>0</th>\n",
       "      <td>Admin Big Data</td>\n",
       "      <td>Responsible for managing and overseeing big da...</td>\n",
       "      <td>Hadoop, Spark, MapReduce, Data Lakes, Data War...</td>\n",
       "      <td>Cloudera Certified Professional (CCP), Hortonw...</td>\n",
       "    </tr>\n",
       "    <tr>\n",
       "      <th>1</th>\n",
       "      <td>Ansible Operations Engineer</td>\n",
       "      <td>Focuses on automating IT processes using Ansib...</td>\n",
       "      <td>Ansible, Linux, Automation, Cloud Platforms, C...</td>\n",
       "      <td>Red Hat Certified Specialist in Ansible Automa...</td>\n",
       "    </tr>\n",
       "    <tr>\n",
       "      <th>2</th>\n",
       "      <td>Artifactory Administrator</td>\n",
       "      <td>Manages the Artifactory repository for build a...</td>\n",
       "      <td>Artifactory, CI/CD, Jenkins, Docker, Maven, Gr...</td>\n",
       "      <td>JFrog Artifactory Certification, DevOps Instit...</td>\n",
       "    </tr>\n",
       "    <tr>\n",
       "      <th>3</th>\n",
       "      <td>Artificial Intelligence / Machine Learning Leader</td>\n",
       "      <td>Leads AI/ML projects and teams, defining strat...</td>\n",
       "      <td>AI Strategy, Machine Learning, Team Management...</td>\n",
       "      <td>AI-900: Microsoft Azure AI Fundamentals, Certi...</td>\n",
       "    </tr>\n",
       "    <tr>\n",
       "      <th>4</th>\n",
       "      <td>Artificial Intelligence / Machine Learning Sr....</td>\n",
       "      <td>Senior role overseeing multiple AI/ML initiati...</td>\n",
       "      <td>AI Strategy, Machine Learning, Team Management...</td>\n",
       "      <td>Certified Artificial Intelligence Practitioner...</td>\n",
       "    </tr>\n",
       "  </tbody>\n",
       "</table>\n",
       "</div>"
      ],
      "text/plain": [
       "                                           Job Title  \\\n",
       "0                                     Admin Big Data   \n",
       "1                        Ansible Operations Engineer   \n",
       "2                          Artifactory Administrator   \n",
       "3  Artificial Intelligence / Machine Learning Leader   \n",
       "4  Artificial Intelligence / Machine Learning Sr....   \n",
       "\n",
       "                                     Job Description  \\\n",
       "0  Responsible for managing and overseeing big da...   \n",
       "1  Focuses on automating IT processes using Ansib...   \n",
       "2  Manages the Artifactory repository for build a...   \n",
       "3  Leads AI/ML projects and teams, defining strat...   \n",
       "4  Senior role overseeing multiple AI/ML initiati...   \n",
       "\n",
       "                                              Skills  \\\n",
       "0  Hadoop, Spark, MapReduce, Data Lakes, Data War...   \n",
       "1  Ansible, Linux, Automation, Cloud Platforms, C...   \n",
       "2  Artifactory, CI/CD, Jenkins, Docker, Maven, Gr...   \n",
       "3  AI Strategy, Machine Learning, Team Management...   \n",
       "4  AI Strategy, Machine Learning, Team Management...   \n",
       "\n",
       "                                      Certifications  \n",
       "0  Cloudera Certified Professional (CCP), Hortonw...  \n",
       "1  Red Hat Certified Specialist in Ansible Automa...  \n",
       "2  JFrog Artifactory Certification, DevOps Instit...  \n",
       "3  AI-900: Microsoft Azure AI Fundamentals, Certi...  \n",
       "4  Certified Artificial Intelligence Practitioner...  "
      ]
     },
     "execution_count": 20,
     "metadata": {},
     "output_type": "execute_result"
    }
   ],
   "source": [
    "it = pd.read_csv(\"data\\\\encoded-IT_Job_Roles_Skills.csv\")\n",
    "it.head()"
   ]
  },
  {
   "cell_type": "code",
   "execution_count": 21,
   "id": "7c9f3446-5f08-4489-9c82-446422ea20cd",
   "metadata": {},
   "outputs": [
    {
     "data": {
      "text/html": [
       "<div>\n",
       "<style scoped>\n",
       "    .dataframe tbody tr th:only-of-type {\n",
       "        vertical-align: middle;\n",
       "    }\n",
       "\n",
       "    .dataframe tbody tr th {\n",
       "        vertical-align: top;\n",
       "    }\n",
       "\n",
       "    .dataframe thead th {\n",
       "        text-align: right;\n",
       "    }\n",
       "</style>\n",
       "<table border=\"1\" class=\"dataframe\">\n",
       "  <thead>\n",
       "    <tr style=\"text-align: right;\">\n",
       "      <th></th>\n",
       "      <th>Job Title</th>\n",
       "      <th>Job Description</th>\n",
       "      <th>Skills</th>\n",
       "    </tr>\n",
       "  </thead>\n",
       "  <tbody>\n",
       "    <tr>\n",
       "      <th>0</th>\n",
       "      <td>Admin Big Data</td>\n",
       "      <td>Responsible for managing and overseeing big da...</td>\n",
       "      <td>Hadoop, Spark, MapReduce, Data Lakes, Data War...</td>\n",
       "    </tr>\n",
       "    <tr>\n",
       "      <th>1</th>\n",
       "      <td>Ansible Operations Engineer</td>\n",
       "      <td>Focuses on automating IT processes using Ansib...</td>\n",
       "      <td>Ansible, Linux, Automation, Cloud Platforms, C...</td>\n",
       "    </tr>\n",
       "    <tr>\n",
       "      <th>2</th>\n",
       "      <td>Artifactory Administrator</td>\n",
       "      <td>Manages the Artifactory repository for build a...</td>\n",
       "      <td>Artifactory, CI/CD, Jenkins, Docker, Maven, Gr...</td>\n",
       "    </tr>\n",
       "    <tr>\n",
       "      <th>3</th>\n",
       "      <td>Artificial Intelligence / Machine Learning Leader</td>\n",
       "      <td>Leads AI/ML projects and teams, defining strat...</td>\n",
       "      <td>AI Strategy, Machine Learning, Team Management...</td>\n",
       "    </tr>\n",
       "    <tr>\n",
       "      <th>4</th>\n",
       "      <td>Artificial Intelligence / Machine Learning Sr....</td>\n",
       "      <td>Senior role overseeing multiple AI/ML initiati...</td>\n",
       "      <td>AI Strategy, Machine Learning, Team Management...</td>\n",
       "    </tr>\n",
       "  </tbody>\n",
       "</table>\n",
       "</div>"
      ],
      "text/plain": [
       "                                           Job Title  \\\n",
       "0                                     Admin Big Data   \n",
       "1                        Ansible Operations Engineer   \n",
       "2                          Artifactory Administrator   \n",
       "3  Artificial Intelligence / Machine Learning Leader   \n",
       "4  Artificial Intelligence / Machine Learning Sr....   \n",
       "\n",
       "                                     Job Description  \\\n",
       "0  Responsible for managing and overseeing big da...   \n",
       "1  Focuses on automating IT processes using Ansib...   \n",
       "2  Manages the Artifactory repository for build a...   \n",
       "3  Leads AI/ML projects and teams, defining strat...   \n",
       "4  Senior role overseeing multiple AI/ML initiati...   \n",
       "\n",
       "                                              Skills  \n",
       "0  Hadoop, Spark, MapReduce, Data Lakes, Data War...  \n",
       "1  Ansible, Linux, Automation, Cloud Platforms, C...  \n",
       "2  Artifactory, CI/CD, Jenkins, Docker, Maven, Gr...  \n",
       "3  AI Strategy, Machine Learning, Team Management...  \n",
       "4  AI Strategy, Machine Learning, Team Management...  "
      ]
     },
     "execution_count": 21,
     "metadata": {},
     "output_type": "execute_result"
    }
   ],
   "source": [
    "it = it.drop(['Certifications'], axis=1)\n",
    "it.head()"
   ]
  },
  {
   "cell_type": "code",
   "execution_count": 22,
   "id": "9fc968a6-3fdf-4b92-914e-48646f512e84",
   "metadata": {},
   "outputs": [],
   "source": [
    "jobdetails_doc=[]\n",
    "\n",
    "for _, row in it.iterrows():\n",
    "    doc=Document(\n",
    "        page_content=f\"Job Title: {row['Job Title']}\\nJob Description: {row['Job Description']}\\nSkills: {row['Skills']}\",\n",
    "        metadata={\n",
    "            \"Job Title\": row['Job Title'],\n",
    "            \"Job Description\": row['Job Description'],\n",
    "            \"Skills\": row['Skills']\n",
    "        }\n",
    "    )\n",
    "\n",
    "    jobdetails_doc.append(doc)"
   ]
  },
  {
   "cell_type": "code",
   "execution_count": 23,
   "id": "888d03d9-51e8-4391-85e8-19b2ee58994d",
   "metadata": {},
   "outputs": [
    {
     "name": "stdout",
     "output_type": "stream",
     "text": [
      "page_content='Job Title: Machine learning Architect\n",
      "Job Description: Designs machine learning systems architecture. Responsible for selecting appropriate frameworks, designing workflows, and ensuring scalability of ML models.\n",
      "Skills: Machine Learning, Deep Learning, Cloud Computing, Data Science, System Design, AWS, Azure, Scalability, Security, Model Deployment' metadata={'Job Title': 'Machine learning Architect', 'Job Description': 'Designs machine learning systems architecture. Responsible for selecting appropriate frameworks, designing workflows, and ensuring scalability of ML models.', 'Skills': 'Machine Learning, Deep Learning, Cloud Computing, Data Science, System Design, AWS, Azure, Scalability, Security, Model Deployment'}\n"
     ]
    }
   ],
   "source": [
    "print(jobdetails_doc[22])"
   ]
  },
  {
   "cell_type": "code",
   "execution_count": 24,
   "id": "e72e3f54-5988-4e75-a696-46d657075cca",
   "metadata": {},
   "outputs": [
    {
     "data": {
      "text/plain": [
       "493"
      ]
     },
     "execution_count": 24,
     "metadata": {},
     "output_type": "execute_result"
    }
   ],
   "source": [
    "len(jobdetails_doc)"
   ]
  },
  {
   "cell_type": "code",
   "execution_count": 28,
   "id": "cb87a70f-71cc-4de6-915c-5ab6005840f2",
   "metadata": {},
   "outputs": [],
   "source": [
    "# job_vector_directory = \"jobs_vector_db\"\n",
    "\n",
    "# embeddings = HuggingFaceEmbeddings(model_name=\"sentence-transformers/all-MiniLM-L6-v2\")\n",
    "\n",
    "# if os.path.exists(job_vector_directory):\n",
    "#     Chroma(persist_directory=job_vector_directory, embedding_function=embeddings).delete_collection()\n",
    "\n",
    "# job_vectorstore = Chroma.from_documents(documents=jobdetails_doc, embedding=embeddings, persist_directory=job_vector_directory)"
   ]
  },
  {
   "cell_type": "code",
   "execution_count": 29,
   "id": "9c933793-d9fc-4e99-a405-668da0695881",
   "metadata": {},
   "outputs": [],
   "source": [
    "# job_vectorstore = Chroma(persist_directory=job_vector_directory, embedding_function=embeddings)\n",
    "# print(job_vectorstore._collection.count())"
   ]
  },
  {
   "cell_type": "code",
   "execution_count": 30,
   "id": "f24efb8c-0adf-433f-ba08-770a3d4bcf24",
   "metadata": {},
   "outputs": [],
   "source": [
    "# from langchain.chains import ConversationalRetrievalChain, LLMChain\n",
    "# from langchain.chains.question_answering import load_qa_chain\n",
    "\n",
    "# warnings.filterwarnings(\"ignore\", category=LangChainDeprecationWarning)\n",
    "\n",
    "# llm = ChatOllama(model=model, temperature=0.7)\n",
    "\n",
    "# memory = ConversationBufferMemory(memory_key=\"chat_history\", return_messages=True)\n",
    "\n",
    "# retriever = job_vectorstore.as_retriever(search_kwargs={\"k\": 5})\n",
    "\n",
    "# chat_prompt = PromptTemplate(\n",
    "#     input_variables=[\"context\", \"question\"],\n",
    "#     template=\"\"\"\n",
    "# You are a friendly and knowledgeable career mentor. Always respond supportively and guide the user toward suitable jobs based on their skills.\n",
    "\n",
    "# Instructions:\n",
    "# 1. If the question is a greeting or casual phrase (e.g., \"Hi\", \"Hello\", \"Thanks\", \"Thank you\", \"How are you?\"):\n",
    "#    - Respond warmly as a friend would (e.g., \"Hey there! 😊 How can I help you with your career goals today?\")\n",
    "# 2. Otherwise:\n",
    "#    - Use the job context to find matching roles.\n",
    "#    - Include all jobs from vectorstore even if **only one skill** matches between the user's skills and the job's required skills, **include that job** in the response.\n",
    "#    - For each matching job, provide:\n",
    "#      - **Job Title**\n",
    "#      - **Job Description**\n",
    "#      - **Additional Required Skills**: List *all* the skills from vectorestore the user does *not* have.\n",
    "#    - Encourage the user to build missing skills.\n",
    "#    *DON'T REPEAT THE JOBS*\n",
    "#    *Give Job Title once, Job Description once and Addition skills for that job once*\n",
    "# 3. If the mentioned skill is not matching with any Skills from vectorstore then answer with your own knowledge.\n",
    "# 4. Other than these two answer like: \"I can't provide answer for that!\"\n",
    "# Context:\n",
    "# {context}\n",
    "\n",
    "# Question:\n",
    "# {question}\n",
    "# \"\"\"\n",
    "# )\n",
    "\n",
    "# conversation_chain = ConversationalRetrievalChain.from_llm(\n",
    "#     llm=llm,\n",
    "#     retriever=retriever,\n",
    "#     memory=memory,\n",
    "#     combine_docs_chain_kwargs={\"prompt\": chat_prompt}\n",
    "# )"
   ]
  },
  {
   "cell_type": "code",
   "execution_count": 31,
   "id": "0f0e0d3b-e360-4a01-8733-d3f4b3fd55ed",
   "metadata": {},
   "outputs": [],
   "source": [
    "# print(conversation_chain.invoke({\"question\": \"I've Machine Learning as my skill, which jobs can I get from it\"})[\"answer\"])"
   ]
  },
  {
   "cell_type": "code",
   "execution_count": 32,
   "id": "4f3624f4-cff3-4221-ae9b-706868c6eb4e",
   "metadata": {},
   "outputs": [],
   "source": [
    "# def chat3(message, history):\n",
    "#     result = conversation_chain.invoke({\"question\": message})\n",
    "#     return result[\"answer\"]"
   ]
  },
  {
   "cell_type": "code",
   "execution_count": 33,
   "id": "712166b4-43e0-4b7d-b855-6443a9dadcd4",
   "metadata": {},
   "outputs": [],
   "source": [
    "# if memory.chat_memory.messages:\n",
    "#     memory.chat_memory.clear()\n",
    "\n",
    "# view = gr.ChatInterface(chat3, type=\"messages\").launch(inbrowser=True)"
   ]
  },
  {
   "cell_type": "code",
   "execution_count": 34,
   "id": "758a71f0-c335-489f-b81f-988239de4283",
   "metadata": {},
   "outputs": [],
   "source": [
    "# embeddings = HuggingFaceEmbeddings(model_name=\"sentence-transformers/all-MiniLM-L6-v2\")\n",
    "\n",
    "# skill_vectorstore = Chroma(persist_directory=\"vector_db\", embedding_function=embeddings)\n",
    "\n",
    "# job_vectorstore = Chroma(persist_directory=\"jobs_vector_db\", embedding_function=embeddings)"
   ]
  },
  {
   "cell_type": "code",
   "execution_count": 35,
   "id": "061e6def-eadf-47ae-88dd-4ce60f3e715f",
   "metadata": {},
   "outputs": [],
   "source": [
    "# skill_retriever = skill_vectorstore.as_retriever(search_kwargs={\"k\": 5})\n",
    "# job_retriever = job_vectorstore.as_retriever(search_kwargs={\"k\": 5})"
   ]
  },
  {
   "cell_type": "code",
   "execution_count": 36,
   "id": "d6b02baa-0e83-4be2-9245-6fdf096d10e6",
   "metadata": {},
   "outputs": [],
   "source": [
    "# skills_prompt = PromptTemplate(\n",
    "#     input_variables=[\"context\", \"question\"],\n",
    "#     template=\"\"\"\n",
    "# You are a helpful assistant.\n",
    "\n",
    "# Use ONLY the CONTEXT provided below to answer the QUESTION.  \n",
    "# - If there is NO CONTEXT available, you MAY use your own knowledge to respond.\n",
    "\n",
    "# CONTEXT:\n",
    "# {context}\n",
    "\n",
    "# QUESTION:\n",
    "# {question}\n",
    "\n",
    "# STRICT ANSWER:\n",
    "# \"\"\"\n",
    "# )"
   ]
  },
  {
   "cell_type": "code",
   "execution_count": 37,
   "id": "774ffb5b-a8bb-4d75-b536-8a53924a9144",
   "metadata": {},
   "outputs": [],
   "source": [
    "# jobs_prompt = PromptTemplate(\n",
    "#     input_variables=[\"context\", \"question\"],\n",
    "#     template=\"\"\"\n",
    "# You are a friendly and knowledgeable career mentor. Always respond supportively and guide the user toward suitable jobs based on their skills.\n",
    "\n",
    "# Instructions:\n",
    "# 1. If the question is a greeting or casual phrase (e.g., \"Hi\", \"Hello\", \"Thanks\", \"Thank you\", \"How are you?\"):\n",
    "#    - Respond warmly like a friend (e.g., \"Hey there! 😊 How can I help you with your career goals today?\")\n",
    "\n",
    "# 2. Otherwise:\n",
    "#    - Use the job context to suggest relevant job roles.\n",
    "#    - Include all jobs from the vectorstore where at least **one skill** matches the user's skills.\n",
    "#    - For each matching job, provide:\n",
    "#      - **Job Title**\n",
    "#      - **Job Description**\n",
    "#      - **Additional Required Skills**: List *only* the skills required for the job that the user does *not* already have.\n",
    "#    - Encourage the user to build the missing skills.\n",
    "\n",
    "# Important:\n",
    "# - **Do not repeat jobs**.\n",
    "# - Provide **Job Title**, **Job Description**, and **Additional Required Skills** only once per job.\n",
    "\n",
    "# 3. If the user's mentioned skill(s) do not match any skills from the vectorstore, respond using your own knowledge.\n",
    "\n",
    "# 4. For all other types of questions (not related to skills or job recommendations), respond with:\n",
    "#    **\"I can't provide an answer for that!\"**\n",
    "\n",
    "# CONTEXT:\n",
    "# {context}\n",
    "\n",
    "# QUESTION:\n",
    "# {question}\n",
    "# \"\"\"\n",
    "# )"
   ]
  },
  {
   "cell_type": "code",
   "execution_count": 38,
   "id": "bfa56330-075b-45e7-bc64-49164470d6de",
   "metadata": {},
   "outputs": [],
   "source": [
    "# def unified_chat(message, history):\n",
    "#     category = classify_question(message)\n",
    "    \n",
    "#     if category == \"skills\":\n",
    "#         docs = skill_retriever.get_relevant_documents(message)\n",
    "#         context = \"\\n\\n\".join(doc.page_content for doc in docs)\n",
    "#         prompt = skills_prompt.format(context=context, question=message)\n",
    "#     elif category == \"jobs\":\n",
    "#         docs = job_retriever.get_relevant_documents(message)\n",
    "#         context = \"\\n\\n\".join(doc.page_content for doc in docs)\n",
    "#         prompt = jobs_prompt.format(context=context, question=message)\n",
    "\n",
    "#     result = llm.invoke(prompt)\n",
    "#     return result.content"
   ]
  },
  {
   "cell_type": "code",
   "execution_count": 39,
   "id": "f441279f-1efb-4222-94a3-cdc7c4c367cc",
   "metadata": {},
   "outputs": [],
   "source": [
    "# if memory.chat_memory.messages:\n",
    "#     memory.chat_memory.clear()\n",
    "\n",
    "# import gradio as gr\n",
    "# view = gr.ChatInterface(unified_chat, type=\"messages\").launch(inbrowser=True)"
   ]
  },
  {
   "cell_type": "code",
   "execution_count": 26,
   "id": "91104bbb-6636-447c-94e7-3c9399f79bfd",
   "metadata": {},
   "outputs": [],
   "source": [
    "# db_name=\"merged_db\"\n",
    "\n",
    "# embeddings = HuggingFaceEmbeddings(model_name=\"sentence-transformers/all-MiniLM-L6-v2\")\n",
    "\n",
    "# vectors = embeddings.embed_documents(texts)\n",
    "\n",
    "# if os.path.exists(db_name):\n",
    "#    Chroma(persist_directory=db_name, embedding_function=embeddings).delete_collection()\n",
    "\n",
    "# merged_vectorstore = Chroma.from_documents(\n",
    "#    documents=docs,\n",
    "#    embedding=embeddings,\n",
    "#    persist_directory=db_name,\n",
    "# )\n",
    "\n",
    "# merged_vectorstore = Chroma.from_documents(documents=jobdetails_doc, embedding=embeddings, persist_directory=db_name)\n",
    "# print(f\"Vectorstore created with {merged_vectorstore._collection.count()} documents\")"
   ]
  },
  {
   "cell_type": "code",
   "execution_count": 32,
   "id": "02ab1677-0f66-4560-a5a3-1ceb657ef1ee",
   "metadata": {},
   "outputs": [
    {
     "name": "stdout",
     "output_type": "stream",
     "text": [
      "Vectorstore created with 713 documents\n"
     ]
    }
   ],
   "source": [
    "db_name=\"merged_db\"\n",
    "\n",
    "embeddings = HuggingFaceEmbeddings(model_name=\"sentence-transformers/all-MiniLM-L6-v2\")\n",
    "\n",
    "merged_vectorstore = Chroma(persist_directory=db_name, embedding_function=embeddings)\n",
    "print(f\"Vectorstore created with {merged_vectorstore._collection.count()} documents\")"
   ]
  },
  {
   "cell_type": "code",
   "execution_count": 28,
   "id": "4f4eb2e6-991d-417d-9b51-29a8c6e99e1a",
   "metadata": {},
   "outputs": [],
   "source": [
    "warnings.filterwarnings(\"ignore\", category=LangChainDeprecationWarning)\n",
    "\n",
    "llm = ChatOllama(model=model, temperature=0.7)\n",
    "\n",
    "memory = ConversationBufferMemory(memory_key=\"chat_history\", return_messages=True)\n",
    "\n",
    "retriever = merged_vectorstore.as_retriever(search_kwargs={\"k\": 5})\n",
    "\n",
    "conversation_chain = ConversationalRetrievalChain.from_llm(\n",
    "    llm=llm,\n",
    "    retriever=retriever,\n",
    "    memory=memory,\n",
    "    # combine_docs_chain_kwargs={\"prompt\": merged_prompt}\n",
    ")"
   ]
  },
  {
   "cell_type": "code",
   "execution_count": 29,
   "id": "a01e99ce-18dd-4227-97e3-ba6d17181d5d",
   "metadata": {},
   "outputs": [
    {
     "name": "stdout",
     "output_type": "stream",
     "text": [
      "Specialization: Cloud Computing\n",
      "Skills Required: Statistics, Git, Python, Hadoop, Adobe XD, SEO, PostgreSQL, Node.js\n",
      "\n",
      "Specialization: Cloud Technician\n",
      "Skills Required: Deep Learning, HTML, Redis, Content Marketing, Cryptography, MATLAB, Flask, Kubernetes, Linux, ElasticSearch\n",
      "\n",
      "Specialization: Cloud Manager\n",
      "Skills Required: Blockchain, SEO, NLP, Redis, PyTorch, Figma, Content Marketing, Machine Learning\n",
      "\n",
      "Job Title: GCP DevOps Engineer\n",
      "Job Description: Implements DevOps practices on Google Cloud Platform. Responsible for automating deployments, managing CI/CD pipelines, and ensuring system reliability.\n",
      "Skills: Google Cloud, DevOps, CI/CD, Terraform, Ansible, Docker, Kubernetes, Linux, Automation, Scripting\n",
      "\n",
      "Specialization: Cloud Developer\n",
      "Skills Required: Kubernetes, Smart Contracts, Swift, CSS, PostgreSQL, Statistics, Angular, Computer Vision, Scrum\n"
     ]
    }
   ],
   "source": [
    "message = \"Jobs I can get with Google Cloud as my skill\"\n",
    "\n",
    "docs = retriever.get_relevant_documents(message)\n",
    "context = \"\\n\\n\".join(doc.page_content for doc in docs)\n",
    "print(context)"
   ]
  },
  {
   "cell_type": "code",
   "execution_count": 33,
   "id": "c8892df4-9b16-4df8-8443-18d66ead2d16",
   "metadata": {},
   "outputs": [
    {
     "name": "stdout",
     "output_type": "stream",
     "text": [
      "* Running on local URL:  http://127.0.0.1:7862\n",
      "\n",
      "To create a public link, set `share=True` in `launch()`.\n"
     ]
    },
    {
     "data": {
      "text/html": [
       "<div><iframe src=\"http://127.0.0.1:7862/\" width=\"100%\" height=\"500\" allow=\"autoplay; camera; microphone; clipboard-read; clipboard-write;\" frameborder=\"0\" allowfullscreen></iframe></div>"
      ],
      "text/plain": [
       "<IPython.core.display.HTML object>"
      ]
     },
     "metadata": {},
     "output_type": "display_data"
    }
   ],
   "source": [
    "def chat4(message, history):\n",
    "    docs = retriever.get_relevant_documents(message)\n",
    "    context = \"\\n\\n\".join(doc.page_content for doc in docs)\n",
    "\n",
    "    history.append({\"role\": \"user\", \"content\": message})\n",
    "    \n",
    "    conversation_history = \"\\n\".join([f\"{msg['role']}: {msg['content']}\" for msg in history])\n",
    "    \n",
    "    prompt = f\"\"\"\n",
    "You are a friendly chatbot, guiding the user about their career.\n",
    "Use ONLY the following CONTEXT to answer the QUESTION.\n",
    "\n",
    "Provide a friendly, motivating message about the user's career goal, along with the skills or job information they are asking for.\n",
    "\n",
    "For skills:\n",
    "- If the user asks about skills, provide all skills required for the specialization that matches the query. If no specialization is found, fall back to the job title’s context and provide those skills.\n",
    "- Give a one-line idea about each skill mentioned, making them excited about acquiring the skills.\n",
    "Example:\n",
    "A Product Engineer bridges the gap between technical development and product design, using engineering skills to create scalable, user-focused products that solve real-world problems. This role blends coding, system design, data handling, and user experience to deliver top-tier tech products from concept to deployment.\n",
    "\n",
    "Here’s a one-line exciting pitch for each required skill:\n",
    "\n",
    "MySQL: Learn to speak the language of databases and unlock insights that drive impactful product decisions.\n",
    "\n",
    "TypeScript: Build robust, maintainable apps with confidence using this powerful upgrade to JavaScript.\n",
    "\n",
    "React: Craft sleek, responsive interfaces and bring products to life with one of the most in-demand front-end frameworks.\n",
    "\n",
    "Java: Power backend systems with a battle-tested language known for performance, scalability, and reliability.\n",
    "\n",
    "Hadoop: Dive into the world of big data and process massive information streams like a data wizard.\n",
    "\n",
    "Computer Vision: Give your apps the ability to \"see\" and revolutionize user experience through intelligent image understanding.\n",
    "\n",
    "For jobs:\n",
    "- If the user asks about jobs, provide a list of all jobs and specializations that require the specified skills.\n",
    "- Also give them job description and also *skills* for that job from job title context**(mention skills right below the specified job)**\n",
    "Example:\n",
    "1. **Machine Learning Engineer**: Build and deploy intelligent models that will revolutionize industries. Your dream job awaits!\n",
    "Skills required: Python, Machine Learning, TensorFlow, Keras, PyTorch, Data Analysis, Deep Learning, Natural Language Processing, Computer Vision, Data Science, Algorithms\n",
    "\n",
    "Do not repeat context as it is. Instead, motivate and inspire the user with the information you provide, and encourage them to keep learning.\n",
    "Don't respond like: 'from your context', 'from given context', etc\n",
    "\n",
    "Finally motivate them in there journey\n",
    "\n",
    "CONTEXT:\n",
    "{context}\n",
    "\n",
    "HISTORY:\n",
    "{conversation_history}\n",
    "\n",
    "QUESTION:\n",
    "{message}\n",
    "\n",
    "STRICT ANSWER:\n",
    "\"\"\"\n",
    "\n",
    "    result = llm.invoke(prompt)\n",
    "    \n",
    "    history.append({\"role\": \"bot\", \"content\": result.content})\n",
    "    \n",
    "    return [{\"role\": \"bot\", \"content\": result.content}]\n",
    "\n",
    "if memory.chat_memory.messages:\n",
    "    memory.chat_memory.clear()\n",
    "\n",
    "view = gr.ChatInterface(chat4, type=\"messages\").launch(inbrowser=True)"
   ]
  },
  {
   "cell_type": "code",
   "execution_count": null,
   "id": "d1b242a4-2f70-4664-90bc-0556cd60f115",
   "metadata": {},
   "outputs": [],
   "source": []
  }
 ],
 "metadata": {
  "kernelspec": {
   "display_name": "Python 3 (ipykernel)",
   "language": "python",
   "name": "python3"
  },
  "language_info": {
   "codemirror_mode": {
    "name": "ipython",
    "version": 3
   },
   "file_extension": ".py",
   "mimetype": "text/x-python",
   "name": "python",
   "nbconvert_exporter": "python",
   "pygments_lexer": "ipython3",
   "version": "3.12.3"
  }
 },
 "nbformat": 4,
 "nbformat_minor": 5
}
