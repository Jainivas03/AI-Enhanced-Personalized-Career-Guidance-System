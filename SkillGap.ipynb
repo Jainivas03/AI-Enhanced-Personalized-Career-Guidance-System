{
 "cells": [
  {
   "cell_type": "code",
   "execution_count": 2,
   "id": "bfae97c7-9df7-4bf5-b9be-e52fceb0b4cc",
   "metadata": {},
   "outputs": [],
   "source": [
    "import pandas as pd\n",
    "import numpy as np\n",
    "import re\n",
    "import gradio as gr\n",
    "from sklearn.feature_extraction.text import TfidfVectorizer\n",
    "from sklearn.metrics.pairwise import cosine_similarity\n",
    "from surprise import SVD\n",
    "from surprise import Dataset, Reader\n",
    "from surprise.model_selection import cross_validate\n",
    "import pdfplumber\n",
    "import nltk\n",
    "from nltk.corpus import stopwords"
   ]
  },
  {
   "cell_type": "code",
   "execution_count": 3,
   "id": "64266e1d-83b5-4664-a8db-a3bb131c8cea",
   "metadata": {
    "scrolled": true
   },
   "outputs": [
    {
     "name": "stderr",
     "output_type": "stream",
     "text": [
      "[nltk_data] Downloading package punkt to C:\\Users\\Jainivas\n",
      "[nltk_data]     Anandhan\\AppData\\Roaming\\nltk_data...\n",
      "[nltk_data]   Package punkt is already up-to-date!\n",
      "[nltk_data] Downloading package stopwords to C:\\Users\\Jainivas\n",
      "[nltk_data]     Anandhan\\AppData\\Roaming\\nltk_data...\n",
      "[nltk_data]   Package stopwords is already up-to-date!\n"
     ]
    },
    {
     "data": {
      "text/plain": [
       "True"
      ]
     },
     "execution_count": 3,
     "metadata": {},
     "output_type": "execute_result"
    }
   ],
   "source": [
    "# Download NLTK resources\n",
    "nltk.download('punkt')\n",
    "nltk.download('stopwords')"
   ]
  },
  {
   "cell_type": "code",
   "execution_count": 4,
   "id": "2c897654-860d-4d1c-8f17-678c546558b7",
   "metadata": {},
   "outputs": [
    {
     "data": {
      "text/html": [
       "<div>\n",
       "<style scoped>\n",
       "    .dataframe tbody tr th:only-of-type {\n",
       "        vertical-align: middle;\n",
       "    }\n",
       "\n",
       "    .dataframe tbody tr th {\n",
       "        vertical-align: top;\n",
       "    }\n",
       "\n",
       "    .dataframe thead th {\n",
       "        text-align: right;\n",
       "    }\n",
       "</style>\n",
       "<table border=\"1\" class=\"dataframe\">\n",
       "  <thead>\n",
       "    <tr style=\"text-align: right;\">\n",
       "      <th></th>\n",
       "      <th>Job Title</th>\n",
       "      <th>Job Description</th>\n",
       "      <th>Skills</th>\n",
       "      <th>Certifications</th>\n",
       "    </tr>\n",
       "  </thead>\n",
       "  <tbody>\n",
       "    <tr>\n",
       "      <th>0</th>\n",
       "      <td>Admin Big Data</td>\n",
       "      <td>Responsible for managing and overseeing big da...</td>\n",
       "      <td>Hadoop, Spark, MapReduce, Data Lakes, Data War...</td>\n",
       "      <td>Cloudera Certified Professional (CCP), Hortonw...</td>\n",
       "    </tr>\n",
       "    <tr>\n",
       "      <th>1</th>\n",
       "      <td>Ansible Operations Engineer</td>\n",
       "      <td>Focuses on automating IT processes using Ansib...</td>\n",
       "      <td>Ansible, Linux, Automation, Cloud Platforms, C...</td>\n",
       "      <td>Red Hat Certified Specialist in Ansible Automa...</td>\n",
       "    </tr>\n",
       "    <tr>\n",
       "      <th>2</th>\n",
       "      <td>Artifactory Administrator</td>\n",
       "      <td>Manages the Artifactory repository for build a...</td>\n",
       "      <td>Artifactory, CI/CD, Jenkins, Docker, Maven, Gr...</td>\n",
       "      <td>JFrog Artifactory Certification, DevOps Instit...</td>\n",
       "    </tr>\n",
       "    <tr>\n",
       "      <th>3</th>\n",
       "      <td>Artificial Intelligence / Machine Learning Leader</td>\n",
       "      <td>Leads AI/ML projects and teams, defining strat...</td>\n",
       "      <td>AI Strategy, Machine Learning, Team Management...</td>\n",
       "      <td>AI-900: Microsoft Azure AI Fundamentals, Certi...</td>\n",
       "    </tr>\n",
       "    <tr>\n",
       "      <th>4</th>\n",
       "      <td>Artificial Intelligence / Machine Learning Sr....</td>\n",
       "      <td>Senior role overseeing multiple AI/ML initiati...</td>\n",
       "      <td>AI Strategy, Machine Learning, Team Management...</td>\n",
       "      <td>Certified Artificial Intelligence Practitioner...</td>\n",
       "    </tr>\n",
       "  </tbody>\n",
       "</table>\n",
       "</div>"
      ],
      "text/plain": [
       "                                           Job Title  \\\n",
       "0                                     Admin Big Data   \n",
       "1                        Ansible Operations Engineer   \n",
       "2                          Artifactory Administrator   \n",
       "3  Artificial Intelligence / Machine Learning Leader   \n",
       "4  Artificial Intelligence / Machine Learning Sr....   \n",
       "\n",
       "                                     Job Description  \\\n",
       "0  Responsible for managing and overseeing big da...   \n",
       "1  Focuses on automating IT processes using Ansib...   \n",
       "2  Manages the Artifactory repository for build a...   \n",
       "3  Leads AI/ML projects and teams, defining strat...   \n",
       "4  Senior role overseeing multiple AI/ML initiati...   \n",
       "\n",
       "                                              Skills  \\\n",
       "0  Hadoop, Spark, MapReduce, Data Lakes, Data War...   \n",
       "1  Ansible, Linux, Automation, Cloud Platforms, C...   \n",
       "2  Artifactory, CI/CD, Jenkins, Docker, Maven, Gr...   \n",
       "3  AI Strategy, Machine Learning, Team Management...   \n",
       "4  AI Strategy, Machine Learning, Team Management...   \n",
       "\n",
       "                                      Certifications  \n",
       "0  Cloudera Certified Professional (CCP), Hortonw...  \n",
       "1  Red Hat Certified Specialist in Ansible Automa...  \n",
       "2  JFrog Artifactory Certification, DevOps Instit...  \n",
       "3  AI-900: Microsoft Azure AI Fundamentals, Certi...  \n",
       "4  Certified Artificial Intelligence Practitioner...  "
      ]
     },
     "execution_count": 4,
     "metadata": {},
     "output_type": "execute_result"
    }
   ],
   "source": [
    "# Load IT Job Roles dataset\n",
    "jobs_df = pd.read_csv(\"data\\\\IT_Job_Roles_Skills.csv\", encoding=\"ISO-8859-1\") \n",
    "jobs_df.head()"
   ]
  },
  {
   "cell_type": "code",
   "execution_count": 5,
   "id": "5e7b77f2-a75d-4a8d-9513-51a5c713c3e9",
   "metadata": {},
   "outputs": [
    {
     "data": {
      "text/html": [
       "<div>\n",
       "<style scoped>\n",
       "    .dataframe tbody tr th:only-of-type {\n",
       "        vertical-align: middle;\n",
       "    }\n",
       "\n",
       "    .dataframe tbody tr th {\n",
       "        vertical-align: top;\n",
       "    }\n",
       "\n",
       "    .dataframe thead th {\n",
       "        text-align: right;\n",
       "    }\n",
       "</style>\n",
       "<table border=\"1\" class=\"dataframe\">\n",
       "  <thead>\n",
       "    <tr style=\"text-align: right;\">\n",
       "      <th></th>\n",
       "      <th>Unnamed: 0</th>\n",
       "      <th>Title</th>\n",
       "      <th>Organization</th>\n",
       "      <th>Skills</th>\n",
       "      <th>Ratings</th>\n",
       "      <th>Review counts</th>\n",
       "      <th>Metadata</th>\n",
       "    </tr>\n",
       "  </thead>\n",
       "  <tbody>\n",
       "    <tr>\n",
       "      <th>0</th>\n",
       "      <td>0</td>\n",
       "      <td>Google Cybersecurity</td>\n",
       "      <td>Google</td>\n",
       "      <td>Network Security, Python Programming, Linux, ...</td>\n",
       "      <td>4.8</td>\n",
       "      <td>4.8(20K reviews)</td>\n",
       "      <td>Beginner · Professional Certificate · 3 - 6 Mo...</td>\n",
       "    </tr>\n",
       "    <tr>\n",
       "      <th>1</th>\n",
       "      <td>1</td>\n",
       "      <td>Google Data Analytics</td>\n",
       "      <td>Google</td>\n",
       "      <td>Data Analysis, R Programming, SQL, Business C...</td>\n",
       "      <td>4.8</td>\n",
       "      <td>4.8(137K reviews)</td>\n",
       "      <td>Beginner · Professional Certificate · 3 - 6 Mo...</td>\n",
       "    </tr>\n",
       "    <tr>\n",
       "      <th>2</th>\n",
       "      <td>2</td>\n",
       "      <td>Google Project Management:</td>\n",
       "      <td>Google</td>\n",
       "      <td>Project Management, Strategy and Operations, ...</td>\n",
       "      <td>4.8</td>\n",
       "      <td>4.8(100K reviews)</td>\n",
       "      <td>Beginner · Professional Certificate · 3 - 6 Mo...</td>\n",
       "    </tr>\n",
       "    <tr>\n",
       "      <th>3</th>\n",
       "      <td>3</td>\n",
       "      <td>IBM Data Science</td>\n",
       "      <td>IBM</td>\n",
       "      <td>Python Programming, Data Science, Machine Lea...</td>\n",
       "      <td>4.6</td>\n",
       "      <td>4.6(120K reviews)</td>\n",
       "      <td>Beginner · Professional Certificate · 3 - 6 Mo...</td>\n",
       "    </tr>\n",
       "    <tr>\n",
       "      <th>4</th>\n",
       "      <td>4</td>\n",
       "      <td>Google Digital Marketing &amp; E-commerce</td>\n",
       "      <td>Google</td>\n",
       "      <td>Digital Marketing, Marketing, Marketing Manag...</td>\n",
       "      <td>4.8</td>\n",
       "      <td>4.8(23K reviews)</td>\n",
       "      <td>Beginner · Professional Certificate · 3 - 6 Mo...</td>\n",
       "    </tr>\n",
       "  </tbody>\n",
       "</table>\n",
       "</div>"
      ],
      "text/plain": [
       "   Unnamed: 0                                  Title Organization  \\\n",
       "0           0                   Google Cybersecurity       Google   \n",
       "1           1                  Google Data Analytics       Google   \n",
       "2           2             Google Project Management:       Google   \n",
       "3           3                       IBM Data Science          IBM   \n",
       "4           4  Google Digital Marketing & E-commerce       Google   \n",
       "\n",
       "                                              Skills  Ratings  \\\n",
       "0   Network Security, Python Programming, Linux, ...      4.8   \n",
       "1   Data Analysis, R Programming, SQL, Business C...      4.8   \n",
       "2   Project Management, Strategy and Operations, ...      4.8   \n",
       "3   Python Programming, Data Science, Machine Lea...      4.6   \n",
       "4   Digital Marketing, Marketing, Marketing Manag...      4.8   \n",
       "\n",
       "       Review counts                                           Metadata  \n",
       "0   4.8(20K reviews)  Beginner · Professional Certificate · 3 - 6 Mo...  \n",
       "1  4.8(137K reviews)  Beginner · Professional Certificate · 3 - 6 Mo...  \n",
       "2  4.8(100K reviews)  Beginner · Professional Certificate · 3 - 6 Mo...  \n",
       "3  4.6(120K reviews)  Beginner · Professional Certificate · 3 - 6 Mo...  \n",
       "4   4.8(23K reviews)  Beginner · Professional Certificate · 3 - 6 Mo...  "
      ]
     },
     "execution_count": 5,
     "metadata": {},
     "output_type": "execute_result"
    }
   ],
   "source": [
    "# Load Coursera Courses dataset\n",
    "courses_df = pd.read_csv(\"data\\\\coursera_course_dataset_v2_no_null.csv\")  \n",
    "courses_df.head()"
   ]
  },
  {
   "cell_type": "code",
   "execution_count": 6,
   "id": "4518f972-614b-449d-a716-9971121a22e5",
   "metadata": {},
   "outputs": [],
   "source": [
    "# Preprocessing: Extract necessary columns\n",
    "courses_df = courses_df[['Title', 'Skills', 'Ratings', 'Review counts']]\n",
    "jobs_df = jobs_df[['Job Title', 'Skills']]\n",
    "\n",
    "# Handling missing values\n",
    "courses_df.dropna(inplace=True)\n",
    "jobs_df.dropna(inplace=True)"
   ]
  },
  {
   "cell_type": "code",
   "execution_count": 7,
   "id": "89ad0370-8b04-4ddb-942a-37bf31377df4",
   "metadata": {},
   "outputs": [],
   "source": [
    "# Extract numeric ratings from \"Ratings\" column\n",
    "courses_df['Ratings'] = courses_df['Ratings'].apply(lambda x: float(re.search(r\"\\d+\\.\\d+\", str(x)).group()) if pd.notnull(x) else np.nan)\n",
    "\n",
    "# Drop NaN ratings\n",
    "courses_df.dropna(subset=['Ratings'], inplace=True)\n"
   ]
  },
  {
   "cell_type": "code",
   "execution_count": 8,
   "id": "14deb94b-e69f-44e3-8b7f-72b140d50ba4",
   "metadata": {},
   "outputs": [],
   "source": [
    "# Add a dummy user ID column since CF requires three columns (user, item, rating)\n",
    "courses_df['User_ID'] = np.arange(len(courses_df))  # Assign unique IDs"
   ]
  },
  {
   "cell_type": "markdown",
   "id": "fdaf145a-9e52-42fa-abc5-e38cfb7c9707",
   "metadata": {},
   "source": [
    "# TF-IDF Model"
   ]
  },
  {
   "cell_type": "code",
   "execution_count": 10,
   "id": "859bd850-d617-4e5c-9492-38913fce6fdf",
   "metadata": {},
   "outputs": [],
   "source": [
    "# TF-IDF for Skill Matching\n",
    "tfidf = TfidfVectorizer()\n",
    "courses_tfidf = tfidf.fit_transform(courses_df['Skills'])\n",
    "jobs_tfidf = tfidf.transform(jobs_df['Skills'])\n",
    "similarity_matrix = cosine_similarity(jobs_tfidf, courses_tfidf)\n"
   ]
  },
  {
   "cell_type": "markdown",
   "id": "1171f6d5-5cbc-4950-8c27-aac06550ba60",
   "metadata": {},
   "source": [
    "# Collaborative Filtering"
   ]
  },
  {
   "cell_type": "code",
   "execution_count": 12,
   "id": "9468c3c7-e47a-44b4-aedb-53e39a4d5aaf",
   "metadata": {},
   "outputs": [
    {
     "data": {
      "text/plain": [
       "<surprise.prediction_algorithms.matrix_factorization.SVD at 0x2213294dc10>"
      ]
     },
     "execution_count": 12,
     "metadata": {},
     "output_type": "execute_result"
    }
   ],
   "source": [
    "# Collaborative Filtering (CF) using SVD\n",
    "reader = Reader(rating_scale=(1, 5))\n",
    "data = Dataset.load_from_df(courses_df[['User_ID', 'Title', 'Ratings']], reader)\n",
    "trainset = data.build_full_trainset()\n",
    "svd = SVD()\n",
    "svd.fit(trainset)"
   ]
  },
  {
   "cell_type": "code",
   "execution_count": 31,
   "id": "eadb8efc-2472-4c77-8e7c-d03b9571b7eb",
   "metadata": {},
   "outputs": [],
   "source": [
    "import pickle\n",
    "\n",
    "# Save scaler and model in the current directory\n",
    "with open('svd.pkl', 'wb') as f:\n",
    "    pickle.dump(svd, f)\n",
    "\n",
    "with open('similarity_matrix.pkl', 'wb') as f:\n",
    "    pickle.dump(similarity_matrix, f)"
   ]
  },
  {
   "cell_type": "markdown",
   "id": "6db97e45-ec17-43e9-b23d-ef3fd4f99246",
   "metadata": {},
   "source": [
    "# Resume Skill Extraction"
   ]
  },
  {
   "cell_type": "code",
   "execution_count": 14,
   "id": "633c9b42-4794-46b0-b4a0-90194181a4e6",
   "metadata": {},
   "outputs": [],
   "source": [
    "SKILLS_DB = list(set(sum(jobs_df['Skills'].str.split(',').tolist(), [])))\n",
    "\n",
    "def extract_text_from_pdf(file_path):\n",
    "    text = \"\"\n",
    "    with pdfplumber.open(file_path) as pdf:\n",
    "        for page in pdf.pages:\n",
    "            if page.extract_text():\n",
    "                text += page.extract_text() + \" \"\n",
    "    return text\n",
    "\n",
    "def extract_skills_from_text(text):\n",
    "    text = text.lower()\n",
    "    tokens = nltk.word_tokenize(text)\n",
    "    tokens = [word for word in tokens if word.isalpha() and word not in stopwords.words('english')]\n",
    "    extracted = set()\n",
    "    for skill in SKILLS_DB:\n",
    "        if skill.strip().lower() in text:\n",
    "            extracted.add(skill.strip())\n",
    "    return list(extracted)\n"
   ]
  },
  {
   "cell_type": "code",
   "execution_count": 15,
   "id": "25c5497e-b6af-4925-9db9-1395b01e59dc",
   "metadata": {},
   "outputs": [],
   "source": [
    "def recommend(skills_input, resume_file, job_role):\n",
    "    if not job_role:\n",
    "        return \"Please select a job role.\", None\n",
    "    \n",
    "    # Extract skills from either file or textbox\n",
    "    resume_skills = []\n",
    "    if resume_file is not None:\n",
    "        text = extract_text_from_pdf(resume_file.name)\n",
    "        resume_skills = extract_skills_from_text(text)\n",
    "    elif skills_input.strip() != \"\":\n",
    "        resume_skills = [s.strip() for s in skills_input.split(',') if s.strip()]\n",
    "    else:\n",
    "        return \"Please upload a resume or enter your skills.\", None\n",
    "\n",
    "    if not resume_skills:\n",
    "        return \"No skills found in the input. Please check the content.\", None\n",
    "\n",
    "    job_index = jobs_df[jobs_df['Job Title'] == job_role].index[0]\n",
    "    required_skills = [skill.strip() for skill in jobs_df.iloc[job_index]['Skills'].split(',')]\n",
    "\n",
    "    # Skill Gap Analysis\n",
    "    missing_skills = [skill for skill in required_skills if skill not in resume_skills]\n",
    "\n",
    "    # Content-based recommendations\n",
    "    similar_courses = list(enumerate(similarity_matrix[job_index]))\n",
    "    similar_courses = sorted(similar_courses, key=lambda x: x[1], reverse=True)[:5]\n",
    "    skill_based = courses_df.iloc[[i[0] for i in similar_courses]]\n",
    "\n",
    "    # Collaborative filtering\n",
    "    cf_recommend = courses_df.copy()\n",
    "    cf_recommend['Predicted_Rating'] = cf_recommend['Title'].apply(lambda x: svd.predict(uid=\"user\", iid=x).est)\n",
    "    cf_recommend = cf_recommend.sort_values(by='Predicted_Rating', ascending=False).head(5)\n",
    "\n",
    "    # Merge both recommendations\n",
    "    hybrid = pd.concat([skill_based, cf_recommend]).drop_duplicates(subset=\"Title\").head(5)\n",
    "\n",
    "    # Output formatting\n",
    "    result = \"### ✅ Extracted Skills:\\n\" + \", \".join(resume_skills) + \"\\n\\n\"\n",
    "    result += \"### ❌ Missing Skills for '{}':\\n\".format(job_role) + (\", \".join(missing_skills) if missing_skills else \"None\") + \"\\n\\n\"\n",
    "    result += \"### 📚 Recommended Courses:\\n\"\n",
    "\n",
    "    course_list = hybrid[['Title', 'Ratings']].values.tolist()\n",
    "    return result, course_list"
   ]
  },
  {
   "cell_type": "markdown",
   "id": "7d13b7f1-8301-4794-a2fb-cea453423051",
   "metadata": {},
   "source": [
    "# Gradio UI"
   ]
  },
  {
   "cell_type": "code",
   "execution_count": 17,
   "id": "4c701693-1687-4ac8-b91e-e51cd7d013f5",
   "metadata": {},
   "outputs": [
    {
     "name": "stdout",
     "output_type": "stream",
     "text": [
      "* Running on local URL:  http://127.0.0.1:7864\n",
      "\n",
      "To create a public link, set `share=True` in `launch()`.\n"
     ]
    },
    {
     "data": {
      "text/html": [
       "<div><iframe src=\"http://127.0.0.1:7864/\" width=\"100%\" height=\"500\" allow=\"autoplay; camera; microphone; clipboard-read; clipboard-write;\" frameborder=\"0\" allowfullscreen></iframe></div>"
      ],
      "text/plain": [
       "<IPython.core.display.HTML object>"
      ]
     },
     "metadata": {},
     "output_type": "display_data"
    },
    {
     "data": {
      "text/plain": []
     },
     "execution_count": 17,
     "metadata": {},
     "output_type": "execute_result"
    }
   ],
   "source": [
    "job_list = [\"\"] + sorted(jobs_df['Job Title'].unique().tolist())\n",
    "\n",
    "with gr.Blocks() as demo:\n",
    "    gr.Markdown(\"## 🧠 Resume Skill Gap Analyzer + Course Recommender\")\n",
    "    \n",
    "    with gr.Row():\n",
    "        resume_file = gr.File(label=\"📄 Upload Resume (PDF)\", file_types=[\".pdf\"])\n",
    "        skills_input = gr.Textbox(label=\"✍️ Or Enter Your Skills (comma-separated)\", placeholder=\"e.g. Python, SQL, Machine Learning\")\n",
    "\n",
    "    job_dropdown = gr.Dropdown(choices=job_list, label=\"🎯 Select Desired Job Role\", value=\"\")\n",
    "\n",
    "    recommend_btn = gr.Button(\"🚀 Recommend\")\n",
    "\n",
    "    output_text = gr.Markdown()\n",
    "    output_courses = gr.Dataframe(headers=[\"Course Title\", \"Rating\"], interactive=False)\n",
    "\n",
    "    recommend_btn.click(\n",
    "        fn=recommend,\n",
    "        inputs=[skills_input, resume_file, job_dropdown],\n",
    "        outputs=[output_text, output_courses]\n",
    "    )\n",
    "\n",
    "demo.launch()"
   ]
  },
  {
   "cell_type": "code",
   "execution_count": null,
   "id": "fe7f4ab8-634b-4e3a-8f22-1dc9caa65ef7",
   "metadata": {},
   "outputs": [],
   "source": []
  }
 ],
 "metadata": {
  "kernelspec": {
   "display_name": "Python 3 (ipykernel)",
   "language": "python",
   "name": "python3"
  },
  "language_info": {
   "codemirror_mode": {
    "name": "ipython",
    "version": 3
   },
   "file_extension": ".py",
   "mimetype": "text/x-python",
   "name": "python",
   "nbconvert_exporter": "python",
   "pygments_lexer": "ipython3",
   "version": "3.12.3"
  }
 },
 "nbformat": 4,
 "nbformat_minor": 5
}
